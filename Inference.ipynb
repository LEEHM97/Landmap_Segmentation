{
 "cells": [
  {
   "cell_type": "code",
   "execution_count": 1,
   "metadata": {},
   "outputs": [
    {
     "name": "stderr",
     "output_type": "stream",
     "text": [
      "Global seed set to 42\n"
     ]
    },
    {
     "data": {
      "text/plain": [
       "42"
      ]
     },
     "execution_count": 1,
     "metadata": {},
     "output_type": "execute_result"
    }
   ],
   "source": [
    "import os \n",
    "import cv2\n",
    "import torch\n",
    "import torchvision\n",
    "import PIL\n",
    "import wandb\n",
    "import natsort\n",
    "import glob\n",
    "\n",
    "import pandas as pd\n",
    "import numpy as np\n",
    "import matplotlib.pyplot as plt\n",
    "import torch.nn as nn\n",
    "import torch.nn.functional as F\n",
    "import pytorch_lightning as pl\n",
    "import segmentation_models_pytorch as smp\n",
    "import torch.optim.lr_scheduler as lr_scheduler\n",
    "import albumentations as A\n",
    "\n",
    "# from adamp import AdamP\n",
    "from albumentations.pytorch.transforms import ToTensorV2\n",
    "from torchmetrics.functional.classification import binary_jaccard_index, jaccard_index\n",
    "from torchvision import transforms as T\n",
    "from torch.utils.data import DataLoader, Dataset\n",
    "from tqdm.autonotebook import tqdm\n",
    "# from tqdm import tqdm\n",
    "from sklearn.model_selection import train_test_split\n",
    "from ipywidgets import interact\n",
    "from torchvision.transforms.functional import to_pil_image\n",
    "from pytorch_lightning.callbacks import ModelCheckpoint\n",
    "from pytorch_lightning.callbacks.early_stopping import EarlyStopping\n",
    "from sklearn.model_selection import KFold, StratifiedKFold, GroupKFold\n",
    "from pytorch_lightning.loggers import WandbLogger\n",
    "\n",
    "pl.seed_everything(42)"
   ]
  },
  {
   "cell_type": "code",
   "execution_count": 2,
   "metadata": {},
   "outputs": [],
   "source": [
    "class UnetPlusPlus_B3(pl.LightningModule):\n",
    "    def __init__(self, args=None, optimizer='adam', scheduler='reducelr'):\n",
    "        super().__init__()\n",
    "        self.model = smp.UnetPlusPlus(\n",
    "            encoder_name='efficientnet-b3',  # choose encoder, e.g. mobilenet_v2 or efficientnet-b7\n",
    "            encoder_weights=\"imagenet\",  # use `imagenet` pre-trained weights for encoder initialization\n",
    "            in_channels=3,  # model input channels (1 for gray-scale images, 3 for RGB, etc.)\n",
    "            classes=1,  # model output channels (number of classes in your dataset)\n",
    "        \n",
    "        )\n",
    "        self.args = args\n",
    "        self.criterion = nn.BCEWithLogitsLoss()\n",
    "        self.optimizer = optimizer\n",
    "        self.scheduler = scheduler\n",
    "\n",
    "    def forward(self, x):\n",
    "        x = self.model(x)\n",
    "        return x\n",
    "    \n",
    "    \n",
    "class UnetPlusPlus_B2(pl.LightningModule):\n",
    "    def __init__(self, args=None, optimizer='adam', scheduler='reducelr'):\n",
    "        super().__init__()\n",
    "        self.model = smp.UnetPlusPlus(\n",
    "            encoder_name='efficientnet-b2',  # choose encoder, e.g. mobilenet_v2 or efficientnet-b7\n",
    "            encoder_weights=\"imagenet\",  # use `imagenet` pre-trained weights for encoder initialization\n",
    "            in_channels=3,  # model input channels (1 for gray-scale images, 3 for RGB, etc.)\n",
    "            classes=1,  # model output channels (number of classes in your dataset)\n",
    "        \n",
    "        )\n",
    "        self.args = args\n",
    "        self.criterion = nn.BCEWithLogitsLoss()\n",
    "        self.optimizer = optimizer\n",
    "        self.scheduler = scheduler\n",
    "\n",
    "    def forward(self, x):\n",
    "        x = self.model(x)\n",
    "        return x\n",
    "    \n",
    "    \n",
    "class Ensemble(pl.LightningModule):\n",
    "    def __init__(self, model1, model2, args=None, optimizer='adam', scheduler='reducelr'):\n",
    "        super().__init__()\n",
    "        self.model1 = model1\n",
    "        self.model2 = model2\n",
    "        \n",
    "        self.model1.model.segmentation_head = nn.Identity()\n",
    "        self.model2.model.segmentation_head = nn.Identity()\n",
    "        \n",
    "        self.cv = nn.Conv2d(32, 1, 1)\n",
    "        # self.up = nn.UpsamplingBilinear2d(scale_factor=4)\n",
    "        \n",
    "        self.args = args\n",
    "        self.criterion = nn.BCEWithLogitsLoss()\n",
    "        self.optimizer = optimizer\n",
    "        self.scheduler = scheduler\n",
    "\n",
    "    def forward(self, x):\n",
    "        x1 = self.model1(x.clone())\n",
    "        x2 = self.model2(x)\n",
    "        # x2 = self.up(x2)\n",
    "\n",
    "        x = torch.cat((x1, x2), dim=1)\n",
    "        output = self.cv(x)\n",
    "        \n",
    "        return output"
   ]
  },
  {
   "cell_type": "code",
   "execution_count": null,
   "metadata": {},
   "outputs": [],
   "source": [
    "# Ensemble\n",
    "model1 = UnetPlusPlus_B3()\n",
    "model2 = UnetPlusPlus_B2()\n",
    "\n",
    "model1 = model1.load_from_checkpoint('./Models/unet++_b3.ckpt')\n",
    "model2 = model2.load_from_checkpoint('./Models/unet++_b2_clahe.ckpt')\n",
    "\n",
    "model1.to(torch.device('cuda' if torch.cuda.is_available() else 'cpu'))\n",
    "model2.to(torch.device('cuda' if torch.cuda.is_available() else 'cpu'))"
   ]
  },
  {
   "cell_type": "code",
   "execution_count": 3,
   "metadata": {},
   "outputs": [],
   "source": [
    "def mask_to_rle(mask):\n",
    "    flatten_mask = mask.flatten()\n",
    "    if flatten_mask.max() == 0:\n",
    "        return f'0 {len(flatten_mask)}'\n",
    "    idx = np.where(flatten_mask!=0)[0]\n",
    "    steps = idx[1:]-idx[:-1]\n",
    "    new_coord = []\n",
    "    step_idx = np.where(np.array(steps)!=1)[0]\n",
    "    start = np.append(idx[0], idx[step_idx+1])\n",
    "    end = np.append(idx[step_idx], idx[-1])\n",
    "    length = end - start + 1\n",
    "    for i in range(len(start)):\n",
    "        new_coord.append(start[i])\n",
    "        new_coord.append(length[i])\n",
    "    new_coord_str = ' '.join(map(str, new_coord))\n",
    "    return new_coord_str"
   ]
  },
  {
   "cell_type": "code",
   "execution_count": 4,
   "metadata": {},
   "outputs": [],
   "source": [
    "class TestDataset(Dataset):\n",
    "    def __init__(self, df, img_dir):\n",
    "        self.df = df\n",
    "        self.img_dir = img_dir\n",
    "        \n",
    "    def __len__(self):\n",
    "        return len(self.df)\n",
    "    \n",
    "    def __getitem__(self, idx):\n",
    "        row = self.df.iloc[idx]\n",
    "        imname = row['img']\n",
    "        image_path = os.path.join(self.img_dir,imname)\n",
    "        \n",
    "        image = cv2.imread(image_path)\n",
    "        image = cv2.cvtColor(image, cv2.COLOR_BGR2RGB)\n",
    "        image = np.transpose(image, (2,0,1)).astype(np.float32)\n",
    "        image = torch.Tensor(image) / 255.0\n",
    "        \n",
    "        return image,imname"
   ]
  },
  {
   "cell_type": "code",
   "execution_count": 5,
   "metadata": {},
   "outputs": [],
   "source": [
    "# 프로젝트 경로\n",
    "PROJECT_DIR = './'\n",
    "os.chdir(PROJECT_DIR)\n",
    "\n",
    "#데이터 경로\n",
    "DATA_DIR = os.path.join(PROJECT_DIR, 'DATA') # 모든 데이터가 들어있는 폴더 경로\n",
    "TEST_IMG_DIR = os.path.join(DATA_DIR, 'images') # 테스트 이미지가 들어있는 폴더 경로\n",
    "TEST_CSV_FILE = os.path.join(DATA_DIR, 'testdf.csv') # 테스트 이미지 이름이 들어있는 CSV 경로\n",
    "DEVICE = torch.device('cuda' if torch.cuda.is_available() else 'cpu')"
   ]
  },
  {
   "cell_type": "code",
   "execution_count": 6,
   "metadata": {},
   "outputs": [],
   "source": [
    "testdf = pd.read_csv(TEST_CSV_FILE)\n",
    "test_dataset = TestDataset(testdf, TEST_IMG_DIR)\n",
    "test_loader = DataLoader(dataset=test_dataset, batch_size=1,shuffle=False)"
   ]
  },
  {
   "cell_type": "code",
   "execution_count": null,
   "metadata": {},
   "outputs": [],
   "source": [
    "model = Ensemble(model1=model1, model2=model2)\n",
    "model = model.load_from_checkpoint('./Models/unet++_b3.ckpt', model1=model1, model2=model2)\n",
    "model.to(DEVICE)\n",
    "model.eval()"
   ]
  },
  {
   "cell_type": "code",
   "execution_count": 19,
   "metadata": {},
   "outputs": [
    {
     "data": {
      "application/vnd.jupyter.widget-view+json": {
       "model_id": "70bad31b795d4c7e88c0aa4fae75c8d9",
       "version_major": 2,
       "version_minor": 0
      },
      "text/plain": [
       "0it [00:00, ?it/s]"
      ]
     },
     "metadata": {},
     "output_type": "display_data"
    }
   ],
   "source": [
    "file_list = [] # 이미지 이름 저장할 리스트\n",
    "pred_list = [] # 마스크 저장할 리스트\n",
    "class_list = [] # 클래스 이름 저장할 리스트 ('building')\n",
    "\n",
    "model.eval()\n",
    "with torch.no_grad():\n",
    "    for batch_index, (image,imname) in tqdm(enumerate(test_loader)):\n",
    "        image = image.to(DEVICE)\n",
    "        logit_mask = model(image)\n",
    "        pred_mask = torch.sigmoid(logit_mask) # logit 값을 probability score로 변경\n",
    "        pred_mask = (pred_mask > 0.4) * 1.0 # 0.5 이상 확률 가진 픽셀값 1로 변환\n",
    "        pred_rle = mask_to_rle(pred_mask.detach().cpu().squeeze(0)) # 마스크를 RLE 형태로 변경\n",
    "        pred_list.append(pred_rle)\n",
    "        file_list.append(imname[0])\n",
    "        class_list.append(\"building\")"
   ]
  },
  {
   "cell_type": "code",
   "execution_count": 20,
   "metadata": {},
   "outputs": [],
   "source": [
    "# 예측 결과 데이터프레임 만들기\n",
    "results = pd.DataFrame({'img_id':file_list,'class':class_list,'prediction':pred_list})\n",
    "\n",
    "# sample_submission.csv와 같은 형태로 변형\n",
    "sampledf = pd.read_csv('./DATA/sample_submission.csv')\n",
    "sorter = list(sampledf['img_id'])\n",
    "results = results.set_index('img_id')\n",
    "results = results.loc[sorter].reset_index()\n",
    "                       \n",
    "# 결과 저장\n",
    "results.to_csv('./results/BCELoss_0.35.csv', index=False)"
   ]
  },
  {
   "cell_type": "code",
   "execution_count": null,
   "metadata": {},
   "outputs": [],
   "source": []
  }
 ],
 "metadata": {
  "kernelspec": {
   "display_name": "Python 3.8.13 ('Usepytorch')",
   "language": "python",
   "name": "python3"
  },
  "language_info": {
   "codemirror_mode": {
    "name": "ipython",
    "version": 3
   },
   "file_extension": ".py",
   "mimetype": "text/x-python",
   "name": "python",
   "nbconvert_exporter": "python",
   "pygments_lexer": "ipython3",
   "version": "3.8.13"
  },
  "orig_nbformat": 4,
  "vscode": {
   "interpreter": {
    "hash": "6ceb60943034ff4e2cd5fc13f5c8eeba8047a22115f0bc6df2962eb9a601a852"
   }
  }
 },
 "nbformat": 4,
 "nbformat_minor": 2
}
